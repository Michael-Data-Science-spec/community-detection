{
 "cells": [
  {
   "cell_type": "code",
   "execution_count": 15,
   "metadata": {},
   "outputs": [],
   "source": [
    "import networkx as nx\n",
    "import numpy as np\n",
    "import igraph as ig\n",
    "from infomap import Infomap\n",
    "from sklearn.metrics import adjusted_rand_score, normalized_mutual_info_score\n",
    "from sklearn.metrics import f1_score, jaccard_score\n",
    "from networkx.algorithms.community.quality import modularity\n",
    "from sklearn.preprocessing import LabelEncoder, MultiLabelBinarizer"
   ]
  },
  {
   "attachments": {},
   "cell_type": "markdown",
   "metadata": {},
   "source": [
    "# Graph Creation"
   ]
  },
  {
   "cell_type": "code",
   "execution_count": 2,
   "metadata": {},
   "outputs": [],
   "source": [
    "def read_data(data_path=\"../data/emails.txt\", labels_path=\"../data/emails_labels.txt\"):\n",
    "    with open(labels_path, \"r\") as f:\n",
    "        nodes_labels = f.read()\n",
    "\n",
    "    nodes_labels = nodes_labels.strip(\"\\n\").split(\"\\n\")\n",
    "    nodes = [int(x.split()[0]) for x in nodes_labels]\n",
    "    labels = [int(x.split()[1]) for x in nodes_labels]\n",
    "\n",
    "    with open(data_path, \"r\") as f:\n",
    "        edges_data = f.read()\n",
    "\n",
    "    edges = {x: dict() for x in nodes}\n",
    "    edges = [(int(x.split()[0]), int(x.split()[1])) for x in edges_data.strip(\"\\n\").split(\"\\n\")]\n",
    "\n",
    "    return np.array(edges), np.array(nodes), np.array(labels)"
   ]
  },
  {
   "cell_type": "code",
   "execution_count": 3,
   "metadata": {},
   "outputs": [],
   "source": [
    "def create_graph(edges, nodes):\n",
    "    G = nx.Graph()\n",
    "    G.add_nodes_from(nodes)\n",
    "    G.add_edges_from(edges)\n",
    "    return G"
   ]
  },
  {
   "cell_type": "code",
   "execution_count": 5,
   "metadata": {},
   "outputs": [
    {
     "data": {
      "text/plain": [
       "((25571, 2), (1005,), (1005,))"
      ]
     },
     "execution_count": 5,
     "metadata": {},
     "output_type": "execute_result"
    }
   ],
   "source": [
    "e, n, l = read_data()\n",
    "e.shape, n.shape, l.shape"
   ]
  },
  {
   "cell_type": "code",
   "execution_count": 6,
   "metadata": {},
   "outputs": [
    {
     "data": {
      "text/plain": [
       "16706"
      ]
     },
     "execution_count": 6,
     "metadata": {},
     "output_type": "execute_result"
    }
   ],
   "source": [
    "G = create_graph(e, n)\n",
    "G.number_of_edges()"
   ]
  },
  {
   "cell_type": "code",
   "execution_count": 10,
   "metadata": {},
   "outputs": [],
   "source": [
    "adjlist = nx.generate_adjlist(G)\n",
    "\n",
    "g = ig.Graph()\n",
    "\n",
    "g.add_vertices(G.number_of_nodes())\n",
    "\n",
    "label_to_id = {label: idx for idx, label in enumerate(G.nodes())}\n",
    "\n",
    "ig_edges = [(label_to_id[edge[0]], label_to_id[edge[1]]) for edge in G.edges()]\n",
    "\n",
    "g.add_edges(ig_edges)"
   ]
  },
  {
   "attachments": {},
   "cell_type": "markdown",
   "metadata": {},
   "source": [
    "# Infomap"
   ]
  },
  {
   "cell_type": "code",
   "execution_count": 11,
   "metadata": {},
   "outputs": [],
   "source": [
    "infomap_wrapper = Infomap(\"--two-level\")\n",
    "for e in g.es:\n",
    "    infomap_wrapper.add_link(*e.tuple)\n",
    "\n",
    "infomap_wrapper.run();"
   ]
  },
  {
   "cell_type": "code",
   "execution_count": 13,
   "metadata": {},
   "outputs": [
    {
     "data": {
      "text/plain": [
       "'Found 61 modules with codelength: 8.696479'"
      ]
     },
     "execution_count": 13,
     "metadata": {},
     "output_type": "execute_result"
    }
   ],
   "source": [
    "\"Found %d modules with codelength: %f\" % (infomap_wrapper.num_top_modules, infomap_wrapper.codelength)"
   ]
  },
  {
   "cell_type": "code",
   "execution_count": 14,
   "metadata": {},
   "outputs": [],
   "source": [
    "community_assignments = [None] * len(g.vs)\n",
    "\n",
    "for node in infomap_wrapper.tree:\n",
    "    if node.is_leaf:\n",
    "        community_assignments[node.node_id] = node.module_id"
   ]
  },
  {
   "cell_type": "code",
   "execution_count": 16,
   "metadata": {},
   "outputs": [
    {
     "name": "stdout",
     "output_type": "stream",
     "text": [
      "Modularity: 0.41857250708512284\n",
      "Adjusted Rand Index: 0.29431629775857837\n",
      "Normalized Mutual Information: 0.6291805324992814\n",
      "F1 Score: 0.07968164781238346\n",
      "Jaccard Index: 0.03929679420889348\n"
     ]
    }
   ],
   "source": [
    "le = LabelEncoder()\n",
    "numeric_cluster_labels = le.fit_transform(community_assignments)\n",
    "\n",
    "clusters = [set() for _ in range(max(numeric_cluster_labels)+1)]\n",
    "for node, cluster in zip(G.nodes(), numeric_cluster_labels):\n",
    "    clusters[cluster].add(node)\n",
    "mod = modularity(G, clusters)\n",
    "print(f'Modularity: {mod}')\n",
    "\n",
    "ari = adjusted_rand_score(l, numeric_cluster_labels)\n",
    "print(f'Adjusted Rand Index: {ari}')\n",
    "\n",
    "nmi = normalized_mutual_info_score(l, numeric_cluster_labels)\n",
    "print(f'Normalized Mutual Information: {nmi}')\n",
    "\n",
    "\n",
    "mlb = MultiLabelBinarizer()\n",
    "\n",
    "binary_cluster_assignments = mlb.fit_transform([[label] for label in numeric_cluster_labels])\n",
    "binary_true_assignments = mlb.transform([[label] for label in l])\n",
    "\n",
    "f1 = f1_score(binary_true_assignments, binary_cluster_assignments, average='weighted')\n",
    "print(f'F1 Score: {f1}')\n",
    "\n",
    "jaccard = jaccard_score(binary_true_assignments, binary_cluster_assignments, average='micro')\n",
    "print(f'Jaccard Index: {jaccard}')"
   ]
  }
 ],
 "metadata": {
  "kernelspec": {
   "display_name": "mlp_venv",
   "language": "python",
   "name": "python3"
  },
  "language_info": {
   "codemirror_mode": {
    "name": "ipython",
    "version": 3
   },
   "file_extension": ".py",
   "mimetype": "text/x-python",
   "name": "python",
   "nbconvert_exporter": "python",
   "pygments_lexer": "ipython3",
   "version": "3.8.5"
  },
  "orig_nbformat": 4
 },
 "nbformat": 4,
 "nbformat_minor": 2
}
