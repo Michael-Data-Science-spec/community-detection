{
  "cells": [
    {
      "cell_type": "code",
      "execution_count": 15,
      "metadata": {
        "colab": {
          "base_uri": "https://localhost:8080/"
        },
        "id": "2r7QeK2si7uA",
        "outputId": "09963562-207b-4c22-ef0c-bda3bc58ccf9"
      },
      "outputs": [
        {
          "name": "stdout",
          "output_type": "stream",
          "text": [
            "(1005, 1005)\n"
          ]
        }
      ],
      "source": [
        "import numpy as np\n",
        "\n",
        "edges = np.loadtxt('filename.txt', dtype=int)\n",
        "num_nodes = np.max(edges) + 1\n",
        "\n",
        "adj_matrix = np.zeros((num_nodes, num_nodes))\n",
        "for edge in edges:\n",
        "    adj_matrix[edge[0], edge[1]] = 1\n",
        "    adj_matrix[edge[1], edge[0]] = 1\n",
        "\n",
        "print(adj_matrix.shape)\n"
      ]
    },
    {
      "cell_type": "code",
      "execution_count": 16,
      "metadata": {
        "colab": {
          "base_uri": "https://localhost:8080/"
        },
        "id": "PdCSEJ_1ycU5",
        "outputId": "7dde9b83-e3f0-4a26-abf7-29434338e78a"
      },
      "outputs": [
        {
          "data": {
            "text/plain": [
              "(25571, 2)"
            ]
          },
          "execution_count": 16,
          "metadata": {},
          "output_type": "execute_result"
        }
      ],
      "source": [
        "edges.shape"
      ]
    },
    {
      "cell_type": "code",
      "execution_count": 17,
      "metadata": {
        "colab": {
          "base_uri": "https://localhost:8080/"
        },
        "id": "nlAbE60ni_dp",
        "outputId": "30cad7c5-576e-4237-800c-f593034904c9"
      },
      "outputs": [
        {
          "name": "stdout",
          "output_type": "stream",
          "text": [
            "(2, 32770)\n"
          ]
        }
      ],
      "source": [
        "row, col = np.where(adj_matrix == 1)\n",
        "\n",
        "edge = np.stack((row, col), axis=0)\n",
        "print(edge.shape)"
      ]
    },
    {
      "cell_type": "code",
      "execution_count": 18,
      "metadata": {
        "id": "sMIwuqyqjBNE"
      },
      "outputs": [],
      "source": [
        "import torch\n",
        "edge = torch.tensor(edge, dtype=torch.long)"
      ]
    },
    {
      "cell_type": "code",
      "execution_count": 19,
      "metadata": {
        "id": "1OYdChr_nqPi"
      },
      "outputs": [],
      "source": [
        "import torch\n",
        "x = torch.tensor(adj_matrix, dtype=torch.float)\n"
      ]
    },
    {
      "cell_type": "code",
      "execution_count": 20,
      "metadata": {
        "id": "9QwM2IffHR9J"
      },
      "outputs": [],
      "source": [
        "c = np.loadtxt('f2.txt', dtype=int)\n",
        "num_nodes = np.max(c) + 1\n",
        "\n",
        "communities = np.zeros((num_nodes))\n",
        "for e in range(len(c)):\n",
        "    communities[e] = c[e][1]\n",
        "y = torch.tensor(communities, dtype=torch.long)\n",
        "\n",
        "nodes_y=[]\n",
        "labels_y=[]\n",
        "for i, lbl in enumerate(y):\n",
        "  nodes_y.append(i)\n",
        "  labels_y.append(lbl)\n"
      ]
    },
    {
      "cell_type": "code",
      "execution_count": 21,
      "metadata": {
        "id": "VF0EC19mhy-G"
      },
      "outputs": [],
      "source": [
        "class AutoEncoder(torch.nn.Module):\n",
        "    def __init__(self):\n",
        "        super(AutoEncoder, self).__init__()\n",
        "        self.conv1 = GCNConv(x.shape[1], 64)\n",
        "        self.bn1 = BatchNorm(64)\n",
        "        self.conv2 = GCNConv(64, 128)\n",
        "        self.bn2 = BatchNorm(128)\n",
        "        self.conv3 = GCNConv(128, 16)\n",
        "        self.conv4 = GCNConv(16, 128)\n",
        "        self.bn3 = BatchNorm(128)\n",
        "        self.conv5 = GCNConv(128, 64)\n",
        "        self.bn4 = BatchNorm(64)\n",
        "        self.conv6 = GCNConv(64, x.shape[1])\n",
        "\n",
        "    def encode(self, x, edge):\n",
        "        x = self.conv1(x, edge)\n",
        "        x = self.bn1(x)\n",
        "        x = F.relu(x)\n",
        "        x = F.dropout(input=x, training=self.training)\n",
        "        x = self.conv2(x, edge)\n",
        "        x = self.bn2(x)\n",
        "        x = F.relu(x)\n",
        "        x = F.dropout(input=x, training=self.training)\n",
        "        x = self.conv3(x, edge)\n",
        "        return x\n",
        "\n",
        "    def decode(self, x, edge):\n",
        "        x = self.conv4(x, edge)\n",
        "        x = self.bn3(x)\n",
        "        x = F.relu(x)\n",
        "        x = self.conv5(x, edge)\n",
        "        x = self.bn4(x)\n",
        "        x = F.relu(x)\n",
        "        x = self.conv6(x, edge)\n",
        "        return x\n",
        "\n",
        "    def forward(self, x, edge):\n",
        "        z = self.encode(x, edge)\n",
        "        x_hat = self.decode(z, edge)\n",
        "        return x_hat\n"
      ]
    },
    {
      "cell_type": "code",
      "execution_count": 22,
      "metadata": {
        "colab": {
          "base_uri": "https://localhost:8080/"
        },
        "id": "4QUtDiIojpAq",
        "outputId": "cf8b52f5-c981-411b-a2f8-c1569e5efc59"
      },
      "outputs": [
        {
          "name": "stdout",
          "output_type": "stream",
          "text": [
            "^C\n",
            "Note: you may need to restart the kernel to use updated packages.\n"
          ]
        },
        {
          "name": "stdout",
          "output_type": "stream",
          "text": [
            "Requirement already satisfied: torch_geometric in c:\\users\\hp\\appdata\\local\\programs\\python\\python38\\lib\\site-packages (2.3.0)\n",
            "Requirement already satisfied: tqdm in c:\\users\\hp\\appdata\\local\\programs\\python\\python38\\lib\\site-packages (from torch_geometric) (4.64.1)\n",
            "Requirement already satisfied: requests in c:\\users\\hp\\appdata\\local\\programs\\python\\python38\\lib\\site-packages (from torch_geometric) (2.28.1)\n",
            "Requirement already satisfied: scikit-learn in c:\\users\\hp\\appdata\\local\\programs\\python\\python38\\lib\\site-packages (from torch_geometric) (1.1.3)\n",
            "Requirement already satisfied: psutil>=5.8.0 in c:\\users\\hp\\appdata\\roaming\\python\\python38\\site-packages (from torch_geometric) (5.9.4)\n",
            "Requirement already satisfied: pyparsing in c:\\users\\hp\\appdata\\local\\programs\\python\\python38\\lib\\site-packages (from torch_geometric) (2.4.7)\n",
            "Requirement already satisfied: jinja2 in c:\\users\\hp\\appdata\\local\\programs\\python\\python38\\lib\\site-packages (from torch_geometric) (3.1.2)\n",
            "Requirement already satisfied: numpy in c:\\users\\hp\\appdata\\local\\programs\\python\\python38\\lib\\site-packages (from torch_geometric) (1.23.5)\n",
            "Requirement already satisfied: scipy in c:\\users\\hp\\appdata\\local\\programs\\python\\python38\\lib\\site-packages (from torch_geometric) (1.9.3)\n",
            "Requirement already satisfied: MarkupSafe>=2.0 in c:\\users\\hp\\appdata\\local\\programs\\python\\python38\\lib\\site-packages (from jinja2->torch_geometric) (2.1.1)\n",
            "Requirement already satisfied: charset-normalizer<3,>=2 in c:\\users\\hp\\appdata\\local\\programs\\python\\python38\\lib\\site-packages (from requests->torch_geometric) (2.1.1)\n",
            "Requirement already satisfied: certifi>=2017.4.17 in c:\\users\\hp\\appdata\\local\\programs\\python\\python38\\lib\\site-packages (from requests->torch_geometric) (2020.12.5)\n",
            "Requirement already satisfied: urllib3<1.27,>=1.21.1 in c:\\users\\hp\\appdata\\local\\programs\\python\\python38\\lib\\site-packages (from requests->torch_geometric) (1.26.3)\n",
            "Requirement already satisfied: idna<4,>=2.5 in c:\\users\\hp\\appdata\\local\\programs\\python\\python38\\lib\\site-packages (from requests->torch_geometric) (2.10)\n",
            "Requirement already satisfied: threadpoolctl>=2.0.0 in c:\\users\\hp\\appdata\\local\\programs\\python\\python38\\lib\\site-packages (from scikit-learn->torch_geometric) (3.1.0)\n",
            "Requirement already satisfied: joblib>=1.0.0 in c:\\users\\hp\\appdata\\local\\programs\\python\\python38\\lib\\site-packages (from scikit-learn->torch_geometric) (1.2.0)\n",
            "Requirement already satisfied: colorama in c:\\users\\hp\\appdata\\roaming\\python\\python38\\site-packages (from tqdm->torch_geometric) (0.4.3)\n"
          ]
        },
        {
          "name": "stderr",
          "output_type": "stream",
          "text": [
            "WARNING: Ignoring invalid distribution -atplotlib (c:\\users\\hp\\appdata\\local\\programs\\python\\python38\\lib\\site-packages)\n",
            "WARNING: Ignoring invalid distribution -atplotlib (c:\\users\\hp\\appdata\\local\\programs\\python\\python38\\lib\\site-packages)\n",
            "WARNING: Ignoring invalid distribution -atplotlib (c:\\users\\hp\\appdata\\local\\programs\\python\\python38\\lib\\site-packages)\n",
            "WARNING: Ignoring invalid distribution -atplotlib (c:\\users\\hp\\appdata\\local\\programs\\python\\python38\\lib\\site-packages)\n",
            "\n",
            "[notice] A new release of pip is available: 23.0.1 -> 23.1\n",
            "[notice] To update, run: python.exe -m pip install --upgrade pip\n"
          ]
        }
      ],
      "source": [
        "pip install torch_geometric"
      ]
    },
    {
      "cell_type": "code",
      "execution_count": null,
      "metadata": {
        "colab": {
          "base_uri": "https://localhost:8080/"
        },
        "id": "6pgD_DoUj5jY",
        "outputId": "e4461e78-6b0e-4219-eedf-371e5392b164"
      },
      "outputs": [
        {
          "data": {
            "text/plain": [
              "torch.Size([2, 32770])"
            ]
          },
          "execution_count": 9,
          "metadata": {},
          "output_type": "execute_result"
        }
      ],
      "source": [
        "edge.shape"
      ]
    },
    {
      "cell_type": "code",
      "execution_count": null,
      "metadata": {
        "colab": {
          "base_uri": "https://localhost:8080/"
        },
        "id": "-9Ajne0x00i3",
        "outputId": "815a6b69-f8a7-49bc-f288-e6f47bb7e2a9"
      },
      "outputs": [
        {
          "name": "stdout",
          "output_type": "stream",
          "text": [
            "Epoch: 1, Train Loss: 225.73533630371094\n",
            "Epoch: 11, Train Loss: 191.809326171875\n",
            "Epoch: 21, Train Loss: 185.39942932128906\n",
            "Epoch: 31, Train Loss: 182.25653076171875\n",
            "Epoch: 41, Train Loss: 180.14208984375\n",
            "Epoch: 51, Train Loss: 178.2906036376953\n",
            "Epoch: 61, Train Loss: 176.46937561035156\n",
            "Epoch: 71, Train Loss: 174.99871826171875\n",
            "Epoch: 81, Train Loss: 174.13522338867188\n",
            "Epoch: 91, Train Loss: 173.028076171875\n",
            "Epoch: 101, Train Loss: 172.1962890625\n",
            "Epoch: 111, Train Loss: 171.25570678710938\n",
            "Epoch: 121, Train Loss: 170.58636474609375\n",
            "Epoch: 131, Train Loss: 170.5286102294922\n",
            "Epoch: 141, Train Loss: 169.75997924804688\n",
            "Epoch: 151, Train Loss: 169.1687469482422\n",
            "Epoch: 161, Train Loss: 168.6874237060547\n",
            "Epoch: 171, Train Loss: 168.4031524658203\n",
            "Epoch: 181, Train Loss: 167.79017639160156\n",
            "Epoch: 191, Train Loss: 167.81817626953125\n"
          ]
        }
      ],
      "source": [
        "import torch\n",
        "import torch.nn as nn\n",
        "from torch_geometric.data import Data\n",
        "from torch_geometric.nn import GCNConv, global_max_pool, BatchNorm\n",
        "from sklearn.model_selection import train_test_split\n",
        "import torch.nn.functional as F\n",
        "\n",
        "model = AutoEncoder()\n",
        "criterion = nn.CrossEntropyLoss()\n",
        "optimizer = torch.optim.Adam(model.parameters(), lr=0.01)\n",
        "\n",
        "for epoch in range(200):\n",
        "    model.train()\n",
        "    optimizer.zero_grad()\n",
        "    x_hat = model(x, edge)\n",
        "    loss = criterion(x_hat, x)\n",
        "\n",
        "    loss.backward()\n",
        "    optimizer.step()\n",
        "    if epoch % 10 == 0:\n",
        "        model.eval()\n",
        "        val_loss = criterion(model(x, edge), x)\n",
        "        print(f\"Epoch: {epoch+1}, Train Loss: {loss.item()}\")"
      ]
    },
    {
      "cell_type": "code",
      "execution_count": null,
      "metadata": {
        "colab": {
          "base_uri": "https://localhost:8080/"
        },
        "id": "7ChrvwV5f6Z-",
        "outputId": "6ab6133e-0dbe-44f5-ee5a-e9a3b8b1ded5"
      },
      "outputs": [
        {
          "name": "stdout",
          "output_type": "stream",
          "text": [
            "tensor(13)\n"
          ]
        }
      ],
      "source": [
        "probs = F.softmax(model.encode(x, edge), dim=1)\n",
        "_, communities = torch.max(probs, dim=1)\n",
        "communities\n",
        "\n",
        "nodes=[]\n",
        "labels=[]\n",
        "for i, lbl in enumerate(communities):\n",
        "  nodes.append(i)\n",
        "  labels.append(lbl)\n",
        "\n",
        "# nodes[:10], labels[:100]\n",
        "print(max(labels))"
      ]
    },
    {
      "cell_type": "code",
      "execution_count": null,
      "metadata": {
        "id": "q9yjnb2Sfiu1"
      },
      "outputs": [
        {
          "ename": "ImportError",
          "evalue": "cannot import name 'axes' from 'matplotlib' (c:\\Users\\hp\\AppData\\Local\\Programs\\Python\\Python38\\lib\\site-packages\\matplotlib\\__init__.py)",
          "output_type": "error",
          "traceback": [
            "\u001b[1;31m---------------------------------------------------------------------------\u001b[0m",
            "\u001b[1;31mImportError\u001b[0m                               Traceback (most recent call last)",
            "\u001b[1;32md:\\ucu\\ml\\Unsupervised_GNN.ipynb Cell 12\u001b[0m in \u001b[0;36m2\n\u001b[0;32m      <a href='vscode-notebook-cell:/d%3A/ucu/ml/Unsupervised_GNN.ipynb#X14sZmlsZQ%3D%3D?line=0'>1</a>\u001b[0m \u001b[39mimport\u001b[39;00m \u001b[39mnetworkx\u001b[39;00m \u001b[39mas\u001b[39;00m \u001b[39mnx\u001b[39;00m\n\u001b[1;32m----> <a href='vscode-notebook-cell:/d%3A/ucu/ml/Unsupervised_GNN.ipynb#X14sZmlsZQ%3D%3D?line=1'>2</a>\u001b[0m \u001b[39mimport\u001b[39;00m \u001b[39mmatplotlib\u001b[39;00m\u001b[39m.\u001b[39;00m\u001b[39mpyplot\u001b[39;00m \u001b[39mas\u001b[39;00m \u001b[39mplt\u001b[39;00m\n\u001b[0;32m      <a href='vscode-notebook-cell:/d%3A/ucu/ml/Unsupervised_GNN.ipynb#X14sZmlsZQ%3D%3D?line=2'>3</a>\u001b[0m \u001b[39mimport\u001b[39;00m \u001b[39mnumpy\u001b[39;00m \u001b[39mas\u001b[39;00m \u001b[39mnp\u001b[39;00m\n\u001b[0;32m      <a href='vscode-notebook-cell:/d%3A/ucu/ml/Unsupervised_GNN.ipynb#X14sZmlsZQ%3D%3D?line=3'>4</a>\u001b[0m \u001b[39mdef\u001b[39;00m \u001b[39mget_n_m\u001b[39m(x):\n",
            "File \u001b[1;32mc:\\Users\\hp\\AppData\\Local\\Programs\\Python\\Python38\\lib\\site-packages\\matplotlib\\pyplot.py:60\u001b[0m\n\u001b[0;32m     58\u001b[0m \u001b[39mfrom\u001b[39;00m \u001b[39mmatplotlib\u001b[39;00m \u001b[39mimport\u001b[39;00m _docstring\n\u001b[0;32m     59\u001b[0m \u001b[39mfrom\u001b[39;00m \u001b[39mmatplotlib\u001b[39;00m\u001b[39m.\u001b[39;00m\u001b[39mbackend_bases\u001b[39;00m \u001b[39mimport\u001b[39;00m FigureCanvasBase, MouseButton\n\u001b[1;32m---> 60\u001b[0m \u001b[39mfrom\u001b[39;00m \u001b[39mmatplotlib\u001b[39;00m\u001b[39m.\u001b[39;00m\u001b[39mfigure\u001b[39;00m \u001b[39mimport\u001b[39;00m Figure, FigureBase, figaspect\n\u001b[0;32m     61\u001b[0m \u001b[39mfrom\u001b[39;00m \u001b[39mmatplotlib\u001b[39;00m\u001b[39m.\u001b[39;00m\u001b[39mgridspec\u001b[39;00m \u001b[39mimport\u001b[39;00m GridSpec, SubplotSpec\n\u001b[0;32m     62\u001b[0m \u001b[39mfrom\u001b[39;00m \u001b[39mmatplotlib\u001b[39;00m \u001b[39mimport\u001b[39;00m rcParams, rcParamsDefault, get_backend, rcParamsOrig\n",
            "File \u001b[1;32mc:\\Users\\hp\\AppData\\Local\\Programs\\Python\\Python38\\lib\\site-packages\\matplotlib\\figure.py:43\u001b[0m\n\u001b[0;32m     40\u001b[0m \u001b[39mimport\u001b[39;00m \u001b[39mnumpy\u001b[39;00m \u001b[39mas\u001b[39;00m \u001b[39mnp\u001b[39;00m\n\u001b[0;32m     42\u001b[0m \u001b[39mimport\u001b[39;00m \u001b[39mmatplotlib\u001b[39;00m \u001b[39mas\u001b[39;00m \u001b[39mmpl\u001b[39;00m\n\u001b[1;32m---> 43\u001b[0m \u001b[39mfrom\u001b[39;00m \u001b[39mmatplotlib\u001b[39;00m \u001b[39mimport\u001b[39;00m _blocking_input, backend_bases, _docstring, projections\n\u001b[0;32m     44\u001b[0m \u001b[39mfrom\u001b[39;00m \u001b[39mmatplotlib\u001b[39;00m\u001b[39m.\u001b[39;00m\u001b[39martist\u001b[39;00m \u001b[39mimport\u001b[39;00m (\n\u001b[0;32m     45\u001b[0m     Artist, allow_rasterization, _finalize_rasterization)\n\u001b[0;32m     46\u001b[0m \u001b[39mfrom\u001b[39;00m \u001b[39mmatplotlib\u001b[39;00m\u001b[39m.\u001b[39;00m\u001b[39mbackend_bases\u001b[39;00m \u001b[39mimport\u001b[39;00m (\n\u001b[0;32m     47\u001b[0m     DrawEvent, FigureCanvasBase, NonGuiException, MouseButton, _get_renderer)\n",
            "File \u001b[1;32mc:\\Users\\hp\\AppData\\Local\\Programs\\Python\\Python38\\lib\\site-packages\\matplotlib\\projections\\__init__.py:55\u001b[0m\n\u001b[0;32m      1\u001b[0m \u001b[39m\"\"\"\u001b[39;00m\n\u001b[0;32m      2\u001b[0m \u001b[39mNon-separable transforms that map from data space to screen space.\u001b[39;00m\n\u001b[0;32m      3\u001b[0m \n\u001b[1;32m   (...)\u001b[0m\n\u001b[0;32m     52\u001b[0m \u001b[39m`matplotlib.projections.polar` may also be of interest.\u001b[39;00m\n\u001b[0;32m     53\u001b[0m \u001b[39m\"\"\"\u001b[39;00m\n\u001b[1;32m---> 55\u001b[0m \u001b[39mfrom\u001b[39;00m \u001b[39m.\u001b[39;00m\u001b[39m.\u001b[39;00m \u001b[39mimport\u001b[39;00m axes, _docstring\n\u001b[0;32m     56\u001b[0m \u001b[39mfrom\u001b[39;00m \u001b[39m.\u001b[39;00m\u001b[39mgeo\u001b[39;00m \u001b[39mimport\u001b[39;00m AitoffAxes, HammerAxes, LambertAxes, MollweideAxes\n\u001b[0;32m     57\u001b[0m \u001b[39mfrom\u001b[39;00m \u001b[39m.\u001b[39;00m\u001b[39mpolar\u001b[39;00m \u001b[39mimport\u001b[39;00m PolarAxes\n",
            "\u001b[1;31mImportError\u001b[0m: cannot import name 'axes' from 'matplotlib' (c:\\Users\\hp\\AppData\\Local\\Programs\\Python\\Python38\\lib\\site-packages\\matplotlib\\__init__.py)"
          ]
        }
      ],
      "source": [
        "import networkx as nx\n",
        "import matplotlib.pyplot as plt\n",
        "import numpy as np\n",
        "def get_n_m(x):\n",
        "    n = int(x ** 0.5)\n",
        "    while x % n != 0:\n",
        "        n -= 1\n",
        "    return tuple(sorted((n, x // n)))\n",
        "\n",
        "def visualize(edges, nodes, labels, communities, x):\n",
        "    np.random.seed = 30\n",
        "    cmap = plt.cm.get_cmap('hsv', 42)\n",
        "    node_labels = np.array(labels)\n",
        "    norm = plt.Normalize(vmin=node_labels.min(), vmax=node_labels.max())\n",
        "    color_map = cmap(norm(node_labels))\n",
        "\n",
        "    \n",
        "    G = nx.Graph()\n",
        "    G.add_nodes_from(nodes)\n",
        "    G.add_edges_from(edges)\n",
        "\n",
        "    pos = {}\n",
        "    n = np.ceil(x ** 0.5)\n",
        "    print(n)\n",
        "\n",
        "    for node, community in enumerate(communities):\n",
        "        x = (community % n) * 10  + np.random.random() * 7\n",
        "        y = (community // n) * 10 + np.random.random() * 7\n",
        "        pos[node] = [x, y]\n",
        "\n",
        "    nx.draw(G, pos=pos, with_labels=False, node_size=3, width=0.01, node_color=color_map)"
      ]
    },
    {
      "cell_type": "code",
      "execution_count": null,
      "metadata": {
        "colab": {
          "base_uri": "https://localhost:8080/"
        },
        "id": "5a1RGlIpkKQ9",
        "outputId": "3943b1b0-f27e-4432-fa78-58526b49c12f"
      },
      "outputs": [
        {
          "name": "stdout",
          "output_type": "stream",
          "text": [
            "{0, 2, 3, 4, 7, 8, 11, 13}\n"
          ]
        }
      ],
      "source": [
        "lst = []\n",
        "for el in labels:\n",
        "  lst.append(int(el))\n",
        "print(set(lst))"
      ]
    },
    {
      "cell_type": "code",
      "execution_count": null,
      "metadata": {
        "colab": {
          "base_uri": "https://localhost:8080/",
          "height": 591
        },
        "id": "1IlV_cY8f6lf",
        "outputId": "993c8f3b-4df5-4826-9998-164955742aae"
      },
      "outputs": [
        {
          "ename": "NameError",
          "evalue": "name 'visualize' is not defined",
          "output_type": "error",
          "traceback": [
            "\u001b[1;31m---------------------------------------------------------------------------\u001b[0m",
            "\u001b[1;31mNameError\u001b[0m                                 Traceback (most recent call last)",
            "\u001b[1;32md:\\ucu\\ml\\Unsupervised_GNN.ipynb Cell 14\u001b[0m in \u001b[0;36m1\n\u001b[1;32m----> <a href='vscode-notebook-cell:/d%3A/ucu/ml/Unsupervised_GNN.ipynb#X16sZmlsZQ%3D%3D?line=0'>1</a>\u001b[0m visualize([ ], nodes, labels_y, labels, \u001b[39m42\u001b[39m)\n",
            "\u001b[1;31mNameError\u001b[0m: name 'visualize' is not defined"
          ]
        }
      ],
      "source": [
        "visualize([ ], nodes, labels_y, labels, 42)"
      ]
    },
    {
      "cell_type": "code",
      "execution_count": null,
      "metadata": {
        "colab": {
          "base_uri": "https://localhost:8080/",
          "height": 591
        },
        "id": "XGS_m4p7VROp",
        "outputId": "384c85a5-b302-4d25-fa47-412add973d12"
      },
      "outputs": [
        {
          "name": "stderr",
          "output_type": "stream",
          "text": [
            "<ipython-input-62-2b1cd59c9b41>:12: MatplotlibDeprecationWarning: The get_cmap function was deprecated in Matplotlib 3.7 and will be removed two minor releases later. Use ``matplotlib.colormaps[name]`` or ``matplotlib.colormaps.get_cmap(obj)`` instead.\n",
            "  cmap = plt.cm.get_cmap('hsv', 42)\n"
          ]
        },
        {
          "name": "stdout",
          "output_type": "stream",
          "text": [
            "7.0\n"
          ]
        },
        {
          "data": {
            "image/png": "[encoded data removed]",
            "text/plain": [
              "<Figure size 640x480 with 1 Axes>"
            ]
          },
          "metadata": {},
          "output_type": "display_data"
        }
      ],
      "source": [
        "visualize([ ], nodes_y, labels_y, labels_y, 42)"
      ]
    },
    {
      "cell_type": "code",
      "execution_count": 23,
      "metadata": {
        "colab": {
          "base_uri": "https://localhost:8080/"
        },
        "id": "kD7rZOfbIES-",
        "outputId": "b113dcc1-b0e3-414b-88d0-e10c744a7e32"
      },
      "outputs": [
        {
          "data": {
            "text/plain": [
              "0.3149572973803869"
            ]
          },
          "execution_count": 23,
          "metadata": {},
          "output_type": "execute_result"
        }
      ],
      "source": [
        "from sklearn.metrics.cluster import normalized_mutual_info_score\n",
        "nmi_score_gnn = normalized_mutual_info_score(labels_y, labels)\n",
        "nmi_score_gnn"
      ]
    },
    {
      "cell_type": "code",
      "execution_count": 24,
      "metadata": {
        "colab": {
          "base_uri": "https://localhost:8080/"
        },
        "id": "ym7J7kqWoGem",
        "outputId": "a9414023-0593-4076-92b7-7685f0cbde8d"
      },
      "outputs": [
        {
          "name": "stdout",
          "output_type": "stream",
          "text": [
            "Requirement already satisfied: python-louvain in c:\\users\\hp\\appdata\\local\\programs\\python\\python38\\lib\\site-packages (0.16)\n",
            "Requirement already satisfied: networkx in c:\\users\\hp\\appdata\\local\\programs\\python\\python38\\lib\\site-packages (from python-louvain) (2.8)\n",
            "Requirement already satisfied: numpy in c:\\users\\hp\\appdata\\local\\programs\\python\\python38\\lib\\site-packages (from python-louvain) (1.23.5)\n",
            "Note: you may need to restart the kernel to use updated packages.\n"
          ]
        },
        {
          "name": "stderr",
          "output_type": "stream",
          "text": [
            "WARNING: Ignoring invalid distribution -atplotlib (c:\\users\\hp\\appdata\\local\\programs\\python\\python38\\lib\\site-packages)\n",
            "WARNING: Ignoring invalid distribution -atplotlib (c:\\users\\hp\\appdata\\local\\programs\\python\\python38\\lib\\site-packages)\n",
            "WARNING: Ignoring invalid distribution -atplotlib (c:\\users\\hp\\appdata\\local\\programs\\python\\python38\\lib\\site-packages)\n",
            "WARNING: Ignoring invalid distribution -atplotlib (c:\\users\\hp\\appdata\\local\\programs\\python\\python38\\lib\\site-packages)\n",
            "\n",
            "[notice] A new release of pip is available: 23.0.1 -> 23.1\n",
            "[notice] To update, run: python.exe -m pip install --upgrade pip\n"
          ]
        }
      ],
      "source": [
        "pip install python-louvain"
      ]
    },
    {
      "cell_type": "code",
      "execution_count": 25,
      "metadata": {
        "colab": {
          "base_uri": "https://localhost:8080/",
          "height": 226
        },
        "id": "4a09hzQPn0wC",
        "outputId": "2e44c72d-798a-42b9-c0d9-3cc864e1ce53"
      },
      "outputs": [
        {
          "name": "stdout",
          "output_type": "stream",
          "text": [
            "Modularity score:  0.5461174635163762\n"
          ]
        }
      ],
      "source": [
        "import community as community_lv\n",
        "G = nx.Graph()\n",
        "G.add_nodes_from(nodes_y)\n",
        "G.add_edges_from(edges)\n",
        "modularity_score = community_lv.modularity({i: labels[i] for i in range(len(labels))}, G)\n",
        "print(\"Modularity score: \", modularity_score)"
      ]
    }
  ],
  "metadata": {
    "colab": {
      "provenance": []
    },
    "kernelspec": {
      "display_name": "Python 3",
      "name": "python3"
    },
    "language_info": {
      "codemirror_mode": {
        "name": "ipython",
        "version": 3
      },
      "file_extension": ".py",
      "mimetype": "text/x-python",
      "name": "python",
      "nbconvert_exporter": "python",
      "pygments_lexer": "ipython3",
      "version": "3.8.5"
    }
  },
  "nbformat": 4,
  "nbformat_minor": 0
}
