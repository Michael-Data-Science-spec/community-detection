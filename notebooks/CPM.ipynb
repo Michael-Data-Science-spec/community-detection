{
  "cells": [
    {
      "cell_type": "code",
      "execution_count": 16,
      "metadata": {
        "id": "UzdxOTotMLvW"
      },
      "outputs": [],
      "source": [
        "from igraph import Graph, summary\n",
        "from functools import partial\n",
        "from multiprocessing.pool import Pool"
      ]
    },
    {
      "cell_type": "code",
      "execution_count": 17,
      "metadata": {
        "id": "KkMHV7uuMXfr"
      },
      "outputs": [],
      "source": [
        "def clique_percolation_method(graph, k = 3, workers = 1, attribute = None):\n",
        "    \"\"\"\n",
        "    graph: igraph object\n",
        "    k: size of the clique\n",
        "    workers: number of threads\n",
        "    \"\"\"\n",
        "    communities  = list()\n",
        "    \n",
        "    cliques = graph.cliques(min=k, max=k)\n",
        "    num_cliques = len(cliques)\n",
        "    set_cliques = [set(i) for i in cliques]\n",
        "    indices = list(range(num_cliques))\n",
        "\n",
        "    edge_list = list()\n",
        "    minimum = k-1\n",
        "    annotate = partial(partial_clique_graph, set_cliques=set_cliques, minimum=minimum, num_cliques=num_cliques)\n",
        "    \n",
        "    pool = Pool(workers)\n",
        "    edges = pool.map(annotate, indices)\n",
        "    edge_list = [j for i in edges for j in i]\n",
        "    \n",
        "    clique_graph = Graph(edge_list)\n",
        "    clique_graph.vs[\"name\"] = [i for i in range(0,num_cliques)]\n",
        "    \n",
        "    components = clique_graph.decompose()\n",
        "    \n",
        "    for component in components:\n",
        "        members_list = [list(cliques[i[\"name\"]]) for i in component.vs] \n",
        "        this_community = [item for sublist in members_list for item in sublist]\n",
        "        communities.append(list(set(this_community)))\n",
        "    \n",
        "    if attribute is not None:\n",
        "        communities_with_names = list()\n",
        "        for community in communities:\n",
        "            communities_with_names.append([graph.vs[element][attribute] for element in community])\n",
        "        communities = communities_with_names\n",
        "    \n",
        "    lens = []\n",
        "    for comm in communities:\n",
        "        lens.append(len(comm))\n",
        "    print(lens)\n",
        "        \n",
        "    return communities\n"
      ]
    },
    {
      "cell_type": "code",
      "execution_count": 18,
      "metadata": {
        "id": "w6LGDVu4MZAA"
      },
      "outputs": [],
      "source": [
        "def partial_clique_graph(i, set_cliques, minimum, num_cliques):\n",
        "    edge_list = list()\n",
        "    this_set = set_cliques[i]\n",
        "    for j in range(i+1, num_cliques):\n",
        "        if len(this_set.intersection(set_cliques[j])) == minimum:\n",
        "            edge_list.append((i,j))\n",
        "    return edge_list    "
      ]
    },
    {
      "cell_type": "code",
      "execution_count": null,
      "metadata": {
        "id": "ITVfHq1WMdVf"
      },
      "outputs": [],
      "source": [
        "g = Graph()\n",
        "vertices = set()\n",
        "edges = []\n",
        "\n",
        "with open(\"filename.txt\", \"r\") as file:\n",
        "    for line in file:\n",
        "        vertex1, vertex2 = line.split()\n",
        "\n",
        "        vertices.add(vertex1)\n",
        "        vertices.add(vertex2)\n",
        "        edges.append((vertex1, vertex2))\n",
        "g.add_vertices(list(vertices))\n",
        "g.add_edges(edges)\n",
        "summary(g)\n",
        "communities = clique_percolation_method(g,3)"
      ]
    },
    {
      "cell_type": "code",
      "source": [
        "print(len(communities))"
      ],
      "metadata": {
        "colab": {
          "base_uri": "https://localhost:8080/"
        },
        "id": "GSIToQRn3m2E",
        "outputId": "339b06db-b809-4c8b-b96e-995f003d3d27"
      },
      "execution_count": 20,
      "outputs": [
        {
          "output_type": "stream",
          "name": "stdout",
          "text": [
            "2\n"
          ]
        }
      ]
    },
    {
      "cell_type": "code",
      "source": [
        "res_dict = {}\n",
        "\n",
        "for i, node_list in enumerate(communities):\n",
        "    for node in node_list:\n",
        "        res_dict[node] = i\n",
        "community_list = [res_dict.get(node) for node in range(len(res_dict))]\n"
      ],
      "metadata": {
        "id": "oqJ-mI2873Jd"
      },
      "execution_count": 22,
      "outputs": []
    },
    {
      "cell_type": "code",
      "source": [
        "for i, el in enumerate(community_list):\n",
        "  if el == None:\n",
        "    community_list[i] = 0"
      ],
      "metadata": {
        "id": "4VFnnQ9Ap96b"
      },
      "execution_count": 23,
      "outputs": []
    },
    {
      "cell_type": "code",
      "source": [
        "lbls = []\n",
        "for count, comm in enumerate(communities):\n",
        "    for i in comm:\n",
        "      lbls.append(g.vs[i][\"name\"])\n"
      ],
      "metadata": {
        "id": "kvFLlu4ul6dj"
      },
      "execution_count": null,
      "outputs": []
    },
    {
      "cell_type": "code",
      "source": [
        "with open('f2.txt', 'r') as f:\n",
        "  file_data = f.readlines()\n",
        "\n",
        "lbls_true = []\n",
        "for line in file_data:\n",
        "    lbls_true.append(line.strip().split()[1])"
      ],
      "metadata": {
        "id": "gsQMFsSRmLKR"
      },
      "execution_count": 39,
      "outputs": []
    },
    {
      "cell_type": "code",
      "source": [
        "from sklearn.metrics.cluster import normalized_mutual_info_score\n",
        "nmi_score_gnn = normalized_mutual_info_score(lbls_true, lbls)"
      ],
      "metadata": {
        "id": "5aPA7qxzmbmW"
      },
      "execution_count": 44,
      "outputs": []
    },
    {
      "cell_type": "code",
      "source": [
        "nmi_score_gnn"
      ],
      "metadata": {
        "colab": {
          "base_uri": "https://localhost:8080/"
        },
        "id": "JSR640cMmrdP",
        "outputId": "b5992ccd-2090-4944-8717-27a5cb1250d9"
      },
      "execution_count": 45,
      "outputs": [
        {
          "output_type": "execute_result",
          "data": {
            "text/plain": [
              "0.6620536205547629"
            ]
          },
          "metadata": {},
          "execution_count": 45
        }
      ]
    },
    {
      "cell_type": "code",
      "source": [
        "from sklearn.metrics import adjusted_rand_score\n",
        "from sklearn.metrics import f1_score\n",
        "from sklearn.metrics import jaccard_score\n",
        "\n",
        "ari = adjusted_rand_score(lbls_true, lbls)\n",
        "print(f'Adjusted Rand Index: {ari}')\n",
        "\n",
        "f1 = f1_score(lbls_true, lbls, average='weighted')\n",
        "print(f'F1 Score: {f1}')\n",
        "\n",
        "jaccard = jaccard_score(lbls_true, lbls, average='weighted')\n",
        "print(f'Jaccard Index: {jaccard}')\n"
      ],
      "metadata": {
        "colab": {
          "base_uri": "https://localhost:8080/"
        },
        "id": "8kvMfq-XvkpM",
        "outputId": "6a489338-72c6-443e-ea0b-2224e6d442ef"
      },
      "execution_count": 46,
      "outputs": [
        {
          "output_type": "stream",
          "name": "stdout",
          "text": [
            "Adjusted Rand Index: -1.4014047367372103e-05\n",
            "F1 Score: 0.0025974025974025974\n",
            "Jaccard Index: 0.0013227513227513227\n"
          ]
        }
      ]
    }
  ],
  "metadata": {
    "colab": {
      "provenance": []
    },
    "kernelspec": {
      "display_name": "Python 3",
      "name": "python3"
    },
    "language_info": {
      "name": "python"
    }
  },
  "nbformat": 4,
  "nbformat_minor": 0
}